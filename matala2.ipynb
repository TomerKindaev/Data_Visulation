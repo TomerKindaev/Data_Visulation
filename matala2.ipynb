# ייבוא הספריות הדרושות
import seaborn as sns
import matplotlib.pyplot as plt
import socket

# רישום מזהה המחשב
print(socket.gethostname())

# טעינת הנתונים
tips = sns.load_dataset("tips")

# בדיקת הנתונים
tips.info()
tips.describe()
tips.head()

# יצירת היסטוגרמה עבור משתנה נומרי (total_bill)
plt.figure(figsize=(8, 6))
sns.histplot(tips['total_bill'], kde=True)
plt.title("Histogram of Total Bill")
plt.xlabel("Total Bill")
plt.ylabel("Frequency")
plt.show()

# יצירת scatterplot עבור שני משתנים נומריים (total_bill ו-tip)
plt.figure(figsize=(8, 6))
sns.scatterplot(x='total_bill', y='tip', data=tips)
plt.title("Scatterplot of Total Bill vs. Tip")
plt.xlabel("Total Bill")
plt.ylabel("Tip")
plt.show()

# יצירת barplot עבור משתנה קטגורי (day) ומשתנה נומרי (total_bill)
plt.figure(figsize=(8, 6))
sns.barplot(x='day', y='total_bill', data=tips)
plt.title("Average Total Bill by Day")
plt.xlabel("Day")
plt.ylabel("Average Total Bill")
plt.show()

# יצירת boxplot עבור אותם משתנים (day ו-total_bill)
plt.figure(figsize=(8, 6))
sns.boxplot(x='day', y='total_bill', data=tips)
plt.title("Boxplot of Total Bill by Day")
plt.xlabel("Day")
plt.ylabel("Total Bill")
plt.show()

# העשרת ה-barplot ע"י הוספת משתנה (sex) עם Hue
plt.figure(figsize=(8, 6))
sns.barplot(x='day', y='total_bill', hue='sex', data=tips)
plt.title("Average Total Bill by Day and Gender")
plt.xlabel("Day")
plt.ylabel("Average Total Bill")
plt.show()

# יצירת ויזואליזציה עם subplots בעזרת catplot ו-col
sns.catplot(x="day", y="total_bill", col="sex", data=tips, kind="bar", height=4, aspect=0.7)
plt.show()
